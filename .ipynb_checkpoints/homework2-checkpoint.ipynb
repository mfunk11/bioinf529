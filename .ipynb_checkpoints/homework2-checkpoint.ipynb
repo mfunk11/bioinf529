{
 "cells": [
  {
   "cell_type": "markdown",
   "metadata": {},
   "source": [
    "# BIOINF529 Homework #2\n",
    "This homework is worth **10% of your final grade**.\n",
    "\n",
    "The exam is due before the next course module begins as enforced by Canvas.\n",
    "\n",
    "## Coding by Contract\n",
    "We (the Instructors) promise a fair, impartial, and objective means of grading such that you (the Students) follow the tenets of Coding by Contract:\n",
    "1. You must not modify/delete any of the existing code in this document (besides the `pass` statements)\n",
    "* Your functions must use the function signatures as written\n",
    "* Your functions must return/print the expected results (as written)\n",
    "\n",
    "If these are followed correctly, your submission should be compatible with the automated testing suite. Therefore, the more tests your code passes, the less scrutiny your code will be under by our review. We do not care *how* you get there, just that you get there *correctly*.\n",
    "\n",
    "## Submission\n",
    "Please rename this notebook to **homework2_uniqname.ipynb** for submission. \n",
    "\n",
    "For example:\n",
    "> `homework1_apboyle.ipynb`\n",
    "\n",
    "We will *only* grade the most recent submission of your exam.\n",
    "\n",
    "## Late Policy\n",
    "Each submission will receive a **25%** penalty per day (up to three days) that the assignment is late.\n",
    "\n",
    "After that, the student will receive a **0** for the homework.\n",
    "\n",
    "## Academic Honor Code\n",
    "You may consult with others. However, all answers must be your own and code comparison software will be used to enforce this rule. You are allowed to ask questions at office hours but the answers given will be high-level/conceptual in nature.\n"
   ]
  },
  {
   "cell_type": "markdown",
   "metadata": {},
   "source": [
    "---\n",
    "# 1. BWT \n",
    "\n",
    "Implement the reverse Burrows-Wheeler transform and run-length encoding.\n",
    "\n",
    "```\n",
    "reverseBWT(string)\n",
    "\n",
    "    \n",
    "```\n",
    "\n",
    "BWT strings are often saved using run-length encoding to save space. You will also implement an enocder and decoder for storing our BWT strings.\n",
    "\n",
    "\n",
    "\n",
    "You are expected to implement the following functions:\n",
    "* `reverseBWT`\n",
    "* `run_length_encode`\n",
    "* `run_length_decode`.\n",
    "\n",
    "Implement as defined in the code below and according to the concept of **'coding by contract'** as discussed in class. If your functions do not take as input or provide as output the variables that we define, you will not receive credit."
   ]
  },
  {
   "cell_type": "code",
   "execution_count": 1,
   "metadata": {},
   "outputs": [],
   "source": [
    "# These should be the only imports you need to complete this question\n",
    "from homework2 import BWT\n",
    "import re #you may use regular expressions if you want"
   ]
  },
  {
   "cell_type": "code",
   "execution_count": 17,
   "metadata": {},
   "outputs": [],
   "source": [
    "#reverse BWT to regenerate string\n",
    "def reverseBWT(b):\n",
    "    ''' Function to reverse Burrows-Wheeler Transform and regenerate the original string\n",
    "    \n",
    "    Args:\n",
    "        b (str): BWT string\n",
    "    \n",
    "    Returns:\n",
    "        x (str): original string\n",
    "        \n",
    "    Example:\n",
    "    >>> reverseBWT(BWT('thisisatestofastring')) #doctest: +ELLIPSIS +NORMALIZE_WHITESPACE\n",
    "    'thisisatestofastring'\n",
    "    '''\n",
    "    b_list = list(b)\n",
    "    occurence_dict = {}\n",
    "    for i in range(len(b_list)):\n",
    "        if b_list[i] not in occurence_dict.keys():\n",
    "            occurence_dict[b_list[i]] = 1\n",
    "            b_list[i] = \"\" + str(b_list[i]) + \"_\" + '1'\n",
    "        else:\n",
    "            occurence_dict[b[i]] += 1\n",
    "            b_list[i] += \"_\" + str(occurence_dict[b[i]])\n",
    "    bwt_alpha = sorted(b_list)\n",
    "    for i in range(len(b_list)):\n",
    "        if b_list[i] == '$_1':\n",
    "            break\n",
    "        continue\n",
    "    \n",
    "    \n",
    "    j = 0\n",
    "    new_str = \"\"\n",
    "    print(bwt_alpha)\n",
    "    while j < len(b_list):\n",
    "        print(i)\n",
    "        new_str += bwt_alpha[i]\n",
    "        for m in range(len(b_list)):\n",
    "            if b_list[m] == bwt_alpha[i]:\n",
    "                i = m\n",
    "                break\n",
    "            continue\n",
    "        j += 1\n",
    "    new_str_no = ''\n",
    "    for letter in new_str:\n",
    "        if letter.isalpha():\n",
    "            new_str_no += letter\n",
    "    \n",
    "    \n",
    "    \n",
    "    return new_str_no"
   ]
  },
  {
   "cell_type": "code",
   "execution_count": 18,
   "metadata": {},
   "outputs": [
    {
     "name": "stdout",
     "output_type": "stream",
     "text": [
      "['$_1', 'a_1', 'a_2', 'a_3', 'b_1', 'n_1', 'n_2']\n",
      "4\n",
      "3\n",
      "6\n",
      "2\n",
      "5\n",
      "1\n",
      "0\n"
     ]
    },
    {
     "data": {
      "text/plain": [
       "'banana'"
      ]
     },
     "execution_count": 18,
     "metadata": {},
     "output_type": "execute_result"
    }
   ],
   "source": [
    "reverseBWT('annb$aa')"
   ]
  },
  {
   "cell_type": "code",
   "execution_count": 56,
   "metadata": {},
   "outputs": [],
   "source": [
    "def run_length_encode(string):\n",
    "    ''' Function to run-length encode a sequence of characters\n",
    "    \n",
    "    Args:\n",
    "        string (str): string to be encoded\n",
    "        \n",
    "    Returns:\n",
    "        encoded_string (str): run-length encoded string\n",
    "\n",
    "    Example:\n",
    "        >>> run_length_encode('CTTTTTCCCCAAAAAG$AAATCA')\n",
    "        'C5T4C5AG$3ATCA'\n",
    "    '''\n",
    "    return_str = \"\"\n",
    "    i = 0\n",
    "    while i < len(string):\n",
    "        letter = string[i]\n",
    "        j = 0\n",
    "        while string[i + j] == letter:\n",
    "            j += 1\n",
    "            if i + j >= len(string):\n",
    "                break\n",
    "        if j == 1:\n",
    "            return_str += letter\n",
    "        else:\n",
    "            return_str += str(j) + letter\n",
    "        i += j\n",
    "    return return_str"
   ]
  },
  {
   "cell_type": "code",
   "execution_count": 57,
   "metadata": {},
   "outputs": [
    {
     "name": "stdout",
     "output_type": "stream",
     "text": [
      "C5T4C5AG$3ATCA\n"
     ]
    }
   ],
   "source": [
    "print(run_length_encode('CTTTTTCCCCAAAAAG$AAATCA'))"
   ]
  },
  {
   "cell_type": "code",
   "execution_count": 52,
   "metadata": {},
   "outputs": [],
   "source": [
    "def run_length_decode(string):\n",
    "    ''' Function to decode a run-length encoded string\n",
    "    \n",
    "    Args:\n",
    "        string (str): string to be decoded\n",
    "        \n",
    "    Returns:\n",
    "        decoded_string (str): decoded string\n",
    "\n",
    "    Example:\n",
    "        >>> run_length_decode('C5T4C5AG$3ATCA')\n",
    "        'CTTTTTCCCCAAAAAG$AAATCA'\n",
    "    '''\n",
    "    return_str = \"\"\n",
    "    i = 0\n",
    "    while i < len(string):\n",
    "        num_str = ''\n",
    "        while string[i].isnumeric():\n",
    "            num_str += string[i]\n",
    "            i += 1\n",
    "        if num_str == \"\":\n",
    "            num = 1\n",
    "        else:\n",
    "            num = int(num_str)\n",
    "        for j in range(num):\n",
    "            return_str += string[i]\n",
    "        i += 1\n",
    "        \n",
    "    return return_str"
   ]
  },
  {
   "cell_type": "code",
   "execution_count": 53,
   "metadata": {},
   "outputs": [
    {
     "data": {
      "text/plain": [
       "'CTTTTTCCCCAAAAAG$AAATCA'"
      ]
     },
     "execution_count": 53,
     "metadata": {},
     "output_type": "execute_result"
    }
   ],
   "source": [
    "run_length_decode('C5T4C5AG$3ATCA')"
   ]
  },
  {
   "cell_type": "markdown",
   "metadata": {},
   "source": [
    "---\n",
    "# 2. INDEL Identification\n",
    "\n",
    "Recall from class that we were able to build a 'pileup' representation of a sequence given just the raw read information. We further discussed that this method was insufficient to handle more complex variation such as insertions and deletions and desribed the CIGAR format to better represent these sequences. In this section of the test, we will implement methods for identifying deletions using a CIGAR string. To accomplish this, we will first implement a method to decode CIGAR strings. You can read more about the specification here: https://samtools.github.io/hts-specs/SAMv1.pdf\n",
    "\n",
    "For the purposes of this section, only consider match/mismatch states (M) and deletions (D). So, for example a 20bp perfect match is represented as 20M and a 20 bp sequence with a 5bp deletion after the first 10bp is 10M5D10M.\n",
    "\n",
    "For this section, you will be building pileups for regions with deletions.\n",
    "\n",
    "You are expected to implement the following functions:\n",
    "* `decode_CIGAR`\n",
    "* `get_cigar_pileup`.\n",
    "\n",
    "Implement as defined in the code below and according to the concept of **'coding by contract'** as discussed in class. If your functions do not take as input or provide as output the variables that we define, you will not receive credit."
   ]
  },
  {
   "cell_type": "code",
   "execution_count": 2,
   "metadata": {},
   "outputs": [
    {
     "ename": "ModuleNotFoundError",
     "evalue": "No module named 'bamnostic'",
     "output_type": "error",
     "traceback": [
      "\u001b[1;31m---------------------------------------------------------------------------\u001b[0m",
      "\u001b[1;31mModuleNotFoundError\u001b[0m                       Traceback (most recent call last)",
      "Input \u001b[1;32mIn [2]\u001b[0m, in \u001b[0;36m<cell line: 2>\u001b[1;34m()\u001b[0m\n\u001b[0;32m      1\u001b[0m \u001b[38;5;66;03m# These should be the only imports you need to complete this question\u001b[39;00m\n\u001b[1;32m----> 2\u001b[0m \u001b[38;5;28;01mimport\u001b[39;00m \u001b[38;5;21;01mbamnostic\u001b[39;00m \u001b[38;5;28;01mas\u001b[39;00m \u001b[38;5;21;01mbs\u001b[39;00m\n\u001b[0;32m      3\u001b[0m \u001b[38;5;28;01mfrom\u001b[39;00m \u001b[38;5;21;01mcollections\u001b[39;00m \u001b[38;5;28;01mimport\u001b[39;00m Counter\n",
      "\u001b[1;31mModuleNotFoundError\u001b[0m: No module named 'bamnostic'"
     ]
    }
   ],
   "source": [
    "# These should be the only imports you need to complete this question\n",
    "import bamnostic as bs\n",
    "from collections import Counter"
   ]
  },
  {
   "cell_type": "code",
   "execution_count": null,
   "metadata": {},
   "outputs": [],
   "source": []
  },
  {
   "cell_type": "code",
   "execution_count": 54,
   "metadata": {},
   "outputs": [],
   "source": [
    "def decode_CIGAR(seq, cigarstring):\n",
    "\n",
    "    '''\n",
    "    \n",
    "    Function to decode a CIGAR to a full length\n",
    "    sequence with '-' characters representing gaps\n",
    "    \n",
    "    Args:\n",
    "        read (bamnostic read object): read to be decoded\n",
    "        \n",
    "    Returns:\n",
    "        sequence (str): text of sequence\n",
    "\n",
    "    Example:\n",
    "        >>> read = bs.AlignedSegment\n",
    "        >>> read.cigarstring = \"20M\"\n",
    "        >>> read.seq = \"ATAGATGATGACGTCATGCA\"\n",
    "        >>> decode_CIGAR(read)\n",
    "        'ATAGATGATGACGTCATGCA'\n",
    "        >>> read = bs.AlignedSegment\n",
    "        >>> read.cigarstring = \"10M5D10M\"\n",
    "        >>> read.seq = \"ATAGATGATGACGTCATGCA\"\n",
    "        >>> decode_CIGAR(read)\n",
    "        'ATAGATGATG-----ACGTCATGCA'\n",
    "    '''\n",
    "    #seq = read.seq\n",
    "    mutations = cigarstring\n",
    "    i = 0\n",
    "    j = 0\n",
    "    mutated_str = list(seq)\n",
    "    while i < len(mutations):\n",
    "        num_str = \"\"\n",
    "        while mutations[i].isnumeric():\n",
    "            num_str += mutations[i]\n",
    "            i += 1\n",
    "        num = int(num_str)\n",
    "        if num_str == \"\":\n",
    "            num = 1\n",
    "        if mutations[i] == 'D':\n",
    "            for m in range(num):\n",
    "                mutated_str.insert(j+m-1, '-')\n",
    "        j += num\n",
    "        i += 1\n",
    "    \n",
    "    return_str = \"\"\n",
    "    for char in mutated_str:\n",
    "        return_str += char\n",
    "                     \n",
    "        \n",
    "    return return_str\n",
    "        \n",
    "    \n"
   ]
  },
  {
   "cell_type": "code",
   "execution_count": 46,
   "metadata": {},
   "outputs": [
    {
     "name": "stdout",
     "output_type": "stream",
     "text": [
      "10\n",
      "5\n",
      "10\n"
     ]
    },
    {
     "data": {
      "text/plain": [
       "'ATAGATGAT-----GACGTCATGCA'"
      ]
     },
     "execution_count": 46,
     "metadata": {},
     "output_type": "execute_result"
    }
   ],
   "source": [
    "decode_CIGAR(\"ATAGATGATGACGTCATGCA\", \"10M5D10M\")"
   ]
  },
  {
   "cell_type": "code",
   "execution_count": 55,
   "metadata": {},
   "outputs": [],
   "source": [
    "def get_cigar_pileup(alignments, region_start = None, region_end = None):\n",
    "    ''' Function build a read pileup list\n",
    "        this is implemented as a list of Counter() from region_start to region_end\n",
    "        with our small genome, it is reasonable to cover the entire genome\n",
    "        but for larger genomes a smaller window is required.\n",
    "        \n",
    "        This version builds pileups from a CIGAR string rather than the sequence.\n",
    "    \n",
    "    Args:\n",
    "        alignments (str): bam file of alignments\n",
    "        region_start (int): start position to build pileup\n",
    "        region_end (int): end position to build pileup\n",
    "    \n",
    "    Returns:\n",
    "        genome (list of Counter()): a list from region_start to region_end of\n",
    "            Counters of allele frequencies\n",
    "        \n",
    "    Example:\n",
    "        >>> get_cigar_pileup('sample_reads.bam') #doctest: +ELLIPSIS +NORMALIZE_WHITESPACE \n",
    "        [Counter({'G': 5}), Counter({'G': 8}), Counter({'T': 12}), ...] \n",
    "    '''\n",
    "    \n",
    "    \n",
    "    for \n",
    "    \n",
    "    pass\n"
   ]
  },
  {
   "cell_type": "markdown",
   "metadata": {},
   "source": [
    "---\n",
    "# Testing your code\n",
    "**Instructions:** If you want a to perform a cursory check of your code (for debugging purposes), do the following:\n",
    "1. Run all cells that the function(s) you want to test depends on\n",
    "* Run the cell(s) you want to test\n",
    "* Run the cell below\n",
    "\n",
    "**Note:** This tests *only* the test cases that are present in the docstrings. Therefore, a passing test does not mean your program(s) work for *all possible* test cases. It is up to you to determine edge-cases that we may consider during grading."
   ]
  },
  {
   "cell_type": "code",
   "execution_count": null,
   "metadata": {},
   "outputs": [],
   "source": [
    "import doctest\n",
    "doctest.testmod()"
   ]
  }
 ],
 "metadata": {
  "kernelspec": {
   "display_name": "Python 3 (ipykernel)",
   "language": "python",
   "name": "python3"
  },
  "language_info": {
   "codemirror_mode": {
    "name": "ipython",
    "version": 3
   },
   "file_extension": ".py",
   "mimetype": "text/x-python",
   "name": "python",
   "nbconvert_exporter": "python",
   "pygments_lexer": "ipython3",
   "version": "3.9.12"
  }
 },
 "nbformat": 4,
 "nbformat_minor": 4
}
